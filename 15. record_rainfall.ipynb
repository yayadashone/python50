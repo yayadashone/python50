{
 "cells": [
  {
   "cell_type": "markdown",
   "metadata": {},
   "source": [
    "## 15 record_rainfall"
   ]
  },
  {
   "cell_type": "code",
   "execution_count": 4,
   "metadata": {},
   "outputs": [
    {
     "name": "stdout",
     "output_type": "stream",
     "text": [
      "None\n",
      "2\n",
      "Error\n"
     ]
    }
   ],
   "source": [
    "#quick learning\n",
    "#get() return NONE if no mapping\n",
    "data = {'a':1,'b':2,'c':3}\n",
    "print(data.get('z'))\n",
    "print(data.get('b'))\n",
    "print(data.get('z','Error')) #return Error"
   ]
  },
  {
   "cell_type": "code",
   "execution_count": 5,
   "metadata": {},
   "outputs": [
    {
     "name": "stdout",
     "output_type": "stream",
     "text": [
      "a\n",
      "b\n",
      "c\n"
     ]
    }
   ],
   "source": [
    "#quick learning\n",
    "for d in data:\n",
    "    print(d) #return keys only"
   ]
  },
  {
   "cell_type": "code",
   "execution_count": 7,
   "metadata": {},
   "outputs": [
    {
     "name": "stdout",
     "output_type": "stream",
     "text": [
      "a 1\n",
      "b 2\n",
      "c 3\n"
     ]
    }
   ],
   "source": [
    "#quick learning\n",
    "#dict.items()\n",
    "for k, i in data.items():   #return key and value\n",
    "    print(k,i)"
   ]
  },
  {
   "cell_type": "code",
   "execution_count": 10,
   "metadata": {},
   "outputs": [
    {
     "name": "stdout",
     "output_type": "stream",
     "text": [
      "dasdf:23 mm\n",
      "fdfs:343 mm\n",
      "vdad:4234 mm\n"
     ]
    }
   ],
   "source": [
    "#first try and revised\n",
    "\n",
    "def record_rainfall():\n",
    "\n",
    "    output={}\n",
    "    while True:\n",
    "        \n",
    "        city=input('please enter a city:')\n",
    "        if not city:\n",
    "            break\n",
    "        rain = input('please enter the rain volumn')\n",
    "        if not rain:\n",
    "            rain == 0\n",
    "    \n",
    "        output[city] =output.get(city,0)+int(rain)\n",
    "\n",
    "    for city,rain in output.items():\n",
    "        print(f'{city}:{rain} mm')\n",
    "\n",
    "\n",
    "\n",
    "record_rainfall()"
   ]
  },
  {
   "cell_type": "code",
   "execution_count": 16,
   "metadata": {},
   "outputs": [
    {
     "name": "stdout",
     "output_type": "stream",
     "text": [
      "0\n",
      "defaultdict(<class 'int'>, {'a': 1, 'b': 2, 'c': 0})\n",
      "defaultdict(<class 'int'>, {'a': 1, 'b': 2, 'c': 0, 'd': 5})\n"
     ]
    }
   ],
   "source": [
    "#quick learning\n",
    "#defaultdict\n",
    "\n",
    "from collections import defaultdict\n",
    "data = defaultdict(int,{'a':1,'b':2}) #增加新key時自動設為0  原dict={'a':1,'b':2}\n",
    "\n",
    "print(data['c']) \n",
    "print(data) # 'c':0\n",
    "data['d'] = 5\n",
    "print(data)"
   ]
  },
  {
   "cell_type": "code",
   "execution_count": 18,
   "metadata": {},
   "outputs": [
    {
     "name": "stdout",
     "output_type": "stream",
     "text": [
      "fg:342 mm\n",
      "sdf:34 mm\n"
     ]
    }
   ],
   "source": [
    "#revised\n",
    "from collections import defaultdict\n",
    "\n",
    "def record_rainfall():\n",
    "\n",
    "    rainfall = defaultdict(int)\n",
    "    while True:\n",
    "        \n",
    "        if not (city := input('please enter a city:')):\n",
    "            break\n",
    "        \n",
    "        if not (rain := input('please enter the rain volumn')):\n",
    "            rain == 0\n",
    "        \n",
    "        rainfall[city] += int(rain)\n",
    "\n",
    "\n",
    "    for city,rain in rainfall.items():\n",
    "        print(f'{city}:{rain} mm')\n",
    "\n",
    "\n",
    "\n",
    "record_rainfall()"
   ]
  }
 ],
 "metadata": {
  "interpreter": {
   "hash": "486541e60e2628d2e526c86f8f25f2705f9d8f1724ebaf0589135c5b719a9618"
  },
  "kernelspec": {
   "display_name": "Python 3.10.2 ('.venv': venv)",
   "language": "python",
   "name": "python3"
  },
  "language_info": {
   "codemirror_mode": {
    "name": "ipython",
    "version": 3
   },
   "file_extension": ".py",
   "mimetype": "text/x-python",
   "name": "python",
   "nbconvert_exporter": "python",
   "pygments_lexer": "ipython3",
   "version": "3.10.2"
  },
  "orig_nbformat": 4
 },
 "nbformat": 4,
 "nbformat_minor": 2
}
