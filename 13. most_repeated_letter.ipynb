{
 "cells": [
  {
   "cell_type": "markdown",
   "metadata": {},
   "source": [
    "## 13 most_repeated_letter"
   ]
  },
  {
   "cell_type": "code",
   "execution_count": 1,
   "metadata": {},
   "outputs": [
    {
     "name": "stdout",
     "output_type": "stream",
     "text": [
      "{'e', 't', 'd', 'p', 'i', 'n'}\n"
     ]
    }
   ],
   "source": [
    "#quick learning\n",
    "#set()\n",
    "s = 'independent'\n",
    "print(set(s))"
   ]
  },
  {
   "cell_type": "code",
   "execution_count": 2,
   "metadata": {},
   "outputs": [
    {
     "name": "stdout",
     "output_type": "stream",
     "text": [
      "3\n"
     ]
    }
   ],
   "source": [
    "#quick learning\n",
    "#count()\n",
    "s = 'independent'\n",
    "print(s.count('e'))"
   ]
  },
  {
   "cell_type": "code",
   "execution_count": 5,
   "metadata": {},
   "outputs": [
    {
     "name": "stdout",
     "output_type": "stream",
     "text": [
      "['e', 't', 'd', 'p', 'i', 'n']\n",
      "[('e', 3), ('t', 1), ('d', 2), ('p', 1), ('i', 1), ('n', 3)]\n"
     ]
    }
   ],
   "source": [
    "#quick learning\n",
    "\n",
    "word = 'independent'\n",
    "letters = list(set(s))\n",
    "print(letters)\n",
    "\n",
    "letters_count=[]\n",
    "for letter in letters:\n",
    "    letters_count.append((letter, word.count(letter)))\n",
    "\n",
    "print(letters_count)"
   ]
  },
  {
   "cell_type": "code",
   "execution_count": 3,
   "metadata": {},
   "outputs": [
    {
     "name": "stdout",
     "output_type": "stream",
     "text": [
      "letter n has the most 3 times\n"
     ]
    }
   ],
   "source": [
    "#first try\n",
    "\n",
    "import operator\n",
    "def most_repeated_letter(word):\n",
    "    letters = list(set(word))\n",
    "    letters_count=[]\n",
    "\n",
    "    for letter in letters:\n",
    "        letters_count.append((letter,word.count(letter)))\n",
    "\n",
    "    mt_rp_letter = sorted(letters_count, key=operator.itemgetter(1))\n",
    "    mt_rp_letter1 = list(mt_rp_letter[-1])\n",
    "\n",
    "    print(f'letter {mt_rp_letter1[0]:1s} has the most {mt_rp_letter1[1]:.0f} times')\n",
    "\n",
    "\n",
    "\n",
    "most_repeated_letter('independent')"
   ]
  },
  {
   "cell_type": "code",
   "execution_count": 4,
   "metadata": {},
   "outputs": [
    {
     "name": "stdout",
     "output_type": "stream",
     "text": [
      "letter n has the most 3 times\n"
     ]
    }
   ],
   "source": [
    "#revised\n",
    "\n",
    "import operator\n",
    "def most_repeated_letter(word):\n",
    "    letters = list(set(word))\n",
    "    letters_count=[]\n",
    "\n",
    "    for letter in letters:\n",
    "        letters_count.append((letter,word.count(letter)))\n",
    "\n",
    "    mt_rp_letter = sorted(letters_count, key=operator.itemgetter(1))[-1]\n",
    "\n",
    "    print(f'letter {mt_rp_letter[0]:1s} has the most {mt_rp_letter[1]:.0f} times')\n",
    "\n",
    "\n",
    "\n",
    "most_repeated_letter('independent')"
   ]
  },
  {
   "cell_type": "code",
   "execution_count": 14,
   "metadata": {},
   "outputs": [
    {
     "name": "stdout",
     "output_type": "stream",
     "text": [
      "Counter({'e': 4, 'n': 3, 'd': 2, 'i': 1, 'p': 1, 'c': 1})\n"
     ]
    }
   ],
   "source": [
    "#quick learning\n",
    "#counter\n",
    "from collections import Counter\n",
    "s = 'independence'\n",
    "letters_count = Counter(s)\n",
    "print(letters_count)"
   ]
  },
  {
   "cell_type": "code",
   "execution_count": 15,
   "metadata": {},
   "outputs": [
    {
     "name": "stdout",
     "output_type": "stream",
     "text": [
      "[('e', 4), ('n', 3), ('d', 2), ('i', 1), ('p', 1), ('c', 1)]\n",
      "[('e', 4)]\n"
     ]
    }
   ],
   "source": [
    "#quick learning\n",
    "#counter\n",
    "#most_common\n",
    "print(letters_count.most_common())\n",
    "print(letters_count.most_common(1)) #return one result"
   ]
  },
  {
   "cell_type": "code",
   "execution_count": 16,
   "metadata": {},
   "outputs": [
    {
     "name": "stdout",
     "output_type": "stream",
     "text": [
      "letter e has the most 4 times\n"
     ]
    }
   ],
   "source": [
    "#revised\n",
    "\n",
    "import operator\n",
    "from collections import Counter\n",
    "\n",
    "def most_repeated_letter(word):\n",
    "\n",
    "    result = Counter(word).most_common(1)[0]\n",
    "    print(f'letter {result[0]:1s} has the most {result[1]:.0f} times')\n",
    "\n",
    "\n",
    "\n",
    "most_repeated_letter('independence')"
   ]
  }
 ],
 "metadata": {
  "interpreter": {
   "hash": "486541e60e2628d2e526c86f8f25f2705f9d8f1724ebaf0589135c5b719a9618"
  },
  "kernelspec": {
   "display_name": "Python 3.10.2 ('.venv': venv)",
   "language": "python",
   "name": "python3"
  },
  "language_info": {
   "codemirror_mode": {
    "name": "ipython",
    "version": 3
   },
   "file_extension": ".py",
   "mimetype": "text/x-python",
   "name": "python",
   "nbconvert_exporter": "python",
   "pygments_lexer": "ipython3",
   "version": "3.10.2"
  },
  "orig_nbformat": 4
 },
 "nbformat": 4,
 "nbformat_minor": 2
}
