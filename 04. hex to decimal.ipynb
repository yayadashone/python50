{
 "cells": [
  {
   "cell_type": "markdown",
   "metadata": {},
   "source": [
    "## 04 change Hexadecimal to Decimal (16 -> 10)"
   ]
  },
  {
   "cell_type": "markdown",
   "metadata": {},
   "source": [
    "A   B   C   D   E   F\n",
    "10  11  12  13  14  15\n",
    "\n",
    "23DE\n",
    "\n",
    "\n",
    "2A\n",
    "2*16^1 + 10*16^0 = 32+10=42"
   ]
  },
  {
   "cell_type": "code",
   "execution_count": null,
   "metadata": {},
   "outputs": [],
   "source": [
    "#quick learning\n",
    "# hex() : change decimal to hexadecimal"
   ]
  },
  {
   "cell_type": "code",
   "execution_count": 1,
   "metadata": {},
   "outputs": [
    {
     "name": "stdout",
     "output_type": "stream",
     "text": [
      "n\n",
      "o\n",
      "h\n",
      "t\n",
      "y\n",
      "p\n"
     ]
    }
   ],
   "source": [
    "#quick learning\n",
    "for t in reversed('python'):\n",
    "    print(t)"
   ]
  },
  {
   "cell_type": "code",
   "execution_count": 1,
   "metadata": {},
   "outputs": [
    {
     "name": "stdout",
     "output_type": "stream",
     "text": [
      "0 n\n",
      "1 o\n",
      "2 h\n",
      "3 t\n",
      "4 y\n",
      "5 p\n"
     ]
    }
   ],
   "source": [
    "#quick learning\n",
    "for index, char in enumerate(reversed('python')):\n",
    "    print(index,char)"
   ]
  },
  {
   "cell_type": "code",
   "execution_count": 23,
   "metadata": {},
   "outputs": [
    {
     "name": "stdout",
     "output_type": "stream",
     "text": [
      "10\n",
      "13\n",
      "-4\n",
      "512\n"
     ]
    }
   ],
   "source": [
    "#quick learning\n",
    "print(ord('A')-55)\n",
    "print(ord('D')-55)\n",
    "print(ord('3')-55)\n",
    "print(2*(16**2))"
   ]
  },
  {
   "cell_type": "code",
   "execution_count": 26,
   "metadata": {},
   "outputs": [
    {
     "name": "stdout",
     "output_type": "stream",
     "text": [
      "42\n"
     ]
    }
   ],
   "source": [
    "#first try\n",
    "\n",
    "def hex_to_dex():\n",
    "    \n",
    "    hex1 = input('enter a hex num:')\n",
    "    for index, char in enumerate(reversed(hex1)):\n",
    "\n",
    "        if char.isdigit():\n",
    "            num1 = int(char)*(16**int(index))\n",
    "            \n",
    "        else:\n",
    "            num2 = (ord(char)-55)*(16**int(index))\n",
    "    print(num1+num2)\n",
    "\n",
    "hex_to_dex()"
   ]
  },
  {
   "cell_type": "code",
   "execution_count": 28,
   "metadata": {},
   "outputs": [
    {
     "name": "stdout",
     "output_type": "stream",
     "text": [
      "42\n"
     ]
    }
   ],
   "source": [
    "#revised\n",
    "\n",
    "def hex_to_dex():\n",
    "    \n",
    "    hex1 = input('enter a hex num:')\n",
    "    num1 = 0\n",
    "    for index, char in enumerate(reversed(hex1)):\n",
    "\n",
    "        if char.isdigit():\n",
    "            char_num = int(char)\n",
    "        else:\n",
    "            char_num = (ord(char.upper())-55)\n",
    "        num1 = num1 + char_num * (16 ** index)\n",
    "    print(num1)\n",
    "\n",
    "hex_to_dex()"
   ]
  },
  {
   "cell_type": "code",
   "execution_count": null,
   "metadata": {},
   "outputs": [
    {
     "name": "stdout",
     "output_type": "stream",
     "text": [
      "42\n"
     ]
    }
   ],
   "source": [
    "#quick learning\n",
    "# int()\n",
    "\n",
    "hexnum = input('enter a hex num:')\n",
    "decnum = int(hexnum,16)\n",
    "\n",
    "print(decnum)"
   ]
  }
 ],
 "metadata": {
  "interpreter": {
   "hash": "aee8b7b246df8f9039afb4144a1f6fd8d2ca17a180786b69acc140d282b71a49"
  },
  "kernelspec": {
   "display_name": "Python 3.10.2 64-bit",
   "language": "python",
   "name": "python3"
  },
  "language_info": {
   "codemirror_mode": {
    "name": "ipython",
    "version": 3
   },
   "file_extension": ".py",
   "mimetype": "text/x-python",
   "name": "python",
   "nbconvert_exporter": "python",
   "pygments_lexer": "ipython3",
   "version": "3.10.2"
  },
  "orig_nbformat": 4
 },
 "nbformat": 4,
 "nbformat_minor": 2
}
