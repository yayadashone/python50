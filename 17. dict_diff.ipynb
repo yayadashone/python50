{
 "cells": [
  {
   "cell_type": "markdown",
   "metadata": {},
   "source": [
    "## 17 dict_diff"
   ]
  },
  {
   "cell_type": "code",
   "execution_count": 13,
   "metadata": {},
   "outputs": [],
   "source": [
    "d1 = {'a':1,'b':2,'c':2}\n",
    "d2 = {'a':1,'b':4,'c':3,'d':5}"
   ]
  },
  {
   "cell_type": "code",
   "execution_count": 12,
   "metadata": {},
   "outputs": [
    {
     "name": "stdout",
     "output_type": "stream",
     "text": [
      "{'a', 'c', 'd', 'b'}\n"
     ]
    },
    {
     "data": {
      "text/plain": [
       "{'a', 'b', 'c', 'd'}"
      ]
     },
     "execution_count": 12,
     "metadata": {},
     "output_type": "execute_result"
    }
   ],
   "source": [
    "#quick learning\n",
    "#聯集運算\n",
    "all_keys = set(d1.keys()) | set(d2.keys()) #mothod 1\n",
    "print(all_keys)\n",
    "d1.keys() | d2.keys() #method 2"
   ]
  },
  {
   "cell_type": "code",
   "execution_count": 20,
   "metadata": {},
   "outputs": [
    {
     "name": "stdout",
     "output_type": "stream",
     "text": [
      "{'d': 5, 'a': 1, 'c': 3, 'b': 4}\n"
     ]
    }
   ],
   "source": [
    "#first try\n",
    "from collections import defaultdict\n",
    "def dict_diff(d1,d2):\n",
    "\n",
    "    new = d1.keys() | d2.keys()\n",
    "    temp = []\n",
    "    output = {}\n",
    "\n",
    "    for k in new:\n",
    "        #d1\n",
    "        if k in d1:\n",
    "            output[k]=d1[k]\n",
    "        else:  \n",
    "            output[k] = 'None'\n",
    "\n",
    "        #d2\n",
    "        if k in d2:\n",
    "            output[k]=d2[k]\n",
    "        else:\n",
    "            output[k] = 'None'\n",
    "\n",
    "    print(output)\n",
    "\n",
    "dict_diff(d1,d2)"
   ]
  },
  {
   "cell_type": "code",
   "execution_count": 24,
   "metadata": {},
   "outputs": [
    {
     "data": {
      "text/plain": [
       "{'b': [2, 4], 'c': [2, 3], 'd': [None, 5]}"
      ]
     },
     "execution_count": 24,
     "metadata": {},
     "output_type": "execute_result"
    }
   ],
   "source": [
    "#revised\n",
    "def dict_diff(d1,d2):\n",
    "    output={}\n",
    "    all_keys = sorted(d1.keys() | d2.keys())\n",
    "\n",
    "    for k in all_keys:\n",
    "        if d1.get(k) != d2.get(k):\n",
    "            output[k] = [d1.get(k), d2.get(k)]\n",
    "    return output\n",
    "\n",
    "\n",
    "dict_diff(d1,d2)"
   ]
  }
 ],
 "metadata": {
  "interpreter": {
   "hash": "486541e60e2628d2e526c86f8f25f2705f9d8f1724ebaf0589135c5b719a9618"
  },
  "kernelspec": {
   "display_name": "Python 3.10.2 ('.venv': venv)",
   "language": "python",
   "name": "python3"
  },
  "language_info": {
   "codemirror_mode": {
    "name": "ipython",
    "version": 3
   },
   "file_extension": ".py",
   "mimetype": "text/x-python",
   "name": "python",
   "nbconvert_exporter": "python",
   "pygments_lexer": "ipython3",
   "version": "3.10.2"
  },
  "orig_nbformat": 4
 },
 "nbformat": 4,
 "nbformat_minor": 2
}
