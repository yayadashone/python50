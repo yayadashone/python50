{
 "cells": [
  {
   "cell_type": "markdown",
   "metadata": {},
   "source": [
    "## 12 sorted_grade"
   ]
  },
  {
   "cell_type": "code",
   "execution_count": 2,
   "metadata": {},
   "outputs": [],
   "source": [
    "grades=[\n",
    "    ('Alice','Wooding',89),\n",
    "    ('Bob','Johnson',95),\n",
    "    ('Cindy','Letterman',83),\n",
    "    ('David','Moor',90)\n",
    "]"
   ]
  },
  {
   "cell_type": "code",
   "execution_count": 4,
   "metadata": {},
   "outputs": [
    {
     "name": "stdout",
     "output_type": "stream",
     "text": [
      "Wooding Alice 89\n",
      "Johnson Bob 95\n",
      "Letterman Cindy 83\n",
      "Moor David 90\n"
     ]
    }
   ],
   "source": [
    "#quick learning\n",
    "for first,last,grade in grades:\n",
    "    print(f'{last} {first} {grade}')"
   ]
  },
  {
   "cell_type": "code",
   "execution_count": 5,
   "metadata": {},
   "outputs": [
    {
     "name": "stdout",
     "output_type": "stream",
     "text": [
      "Wooding      Alice      89.0\n",
      "Johnson      Bob        95.0\n",
      "Letterman    Cindy      83.0\n",
      "Moor         David      90.0\n"
     ]
    }
   ],
   "source": [
    "#quick learning\n",
    "for first,last,grade in grades:\n",
    "    print(f'{last:12s} {first:10s} {grade:.1f}')"
   ]
  },
  {
   "cell_type": "code",
   "execution_count": 15,
   "metadata": {},
   "outputs": [
    {
     "name": "stdout",
     "output_type": "stream",
     "text": [
      "Johnson      Bob        95.0\n",
      "Moor         David      90.0\n",
      "Wooding      Alice      89.0\n",
      "Letterman    Cindy      83.0\n"
     ]
    }
   ],
   "source": [
    "#first try and revised\n",
    "import operator\n",
    "\n",
    "def sorted_grade(grad):\n",
    "    output =[]\n",
    "    for first, last, grade in sorted(grad, key= operator.itemgetter(2), reverse=True):\n",
    "        output.append(f'{last:12s} {first:10s} {grade:.1f}')\n",
    "    return '\\n'.join(output)\n",
    "\n",
    "print(sorted_grade(grades))"
   ]
  },
  {
   "cell_type": "code",
   "execution_count": 4,
   "metadata": {},
   "outputs": [
    {
     "name": "stdout",
     "output_type": "stream",
     "text": [
      "Wooding     Alice    89.0\n",
      "Johnson     Bob      95.0\n",
      "Letterman   Cindy    83.0\n",
      "Moor        David    90.0\n"
     ]
    }
   ],
   "source": [
    "#quick learning\n",
    "#format\n",
    "for first, last, grade in grades:\n",
    "    print('{1:12s}{0:8s}{2:5.1f}'.format(first,last,grade))"
   ]
  },
  {
   "cell_type": "code",
   "execution_count": 7,
   "metadata": {},
   "outputs": [
    {
     "name": "stdout",
     "output_type": "stream",
     "text": [
      "Wooding     Alice    89.0\n",
      "Johnson     Bob      95.0\n",
      "Letterman   Cindy    83.0\n",
      "Moor        David    90.0\n"
     ]
    }
   ],
   "source": [
    "#quick learning\n",
    "#format *unpack\n",
    "for grade in grades:\n",
    "    print('{1:12s}{0:8s}{2:5.1f}'.format(*grade))"
   ]
  },
  {
   "cell_type": "code",
   "execution_count": 9,
   "metadata": {},
   "outputs": [
    {
     "name": "stdout",
     "output_type": "stream",
     "text": [
      "Johnson      Bob        95.0\n",
      "Moor         David      90.0\n",
      "Wooding      Alice      89.0\n",
      "Letterman    Cindy      83.0\n"
     ]
    }
   ],
   "source": [
    "#revised\n",
    "import operator\n",
    "\n",
    "def sorted_grade(grad):\n",
    "    output =[]\n",
    "    for grd in sorted(grad, key= operator.itemgetter(2), reverse=True):\n",
    "        output.append('{1:12s} {0:10s} {2:.1f}'.format(*grd))\n",
    "    return '\\n'.join(output)\n",
    "\n",
    "print(sorted_grade(grades))"
   ]
  }
 ],
 "metadata": {
  "interpreter": {
   "hash": "486541e60e2628d2e526c86f8f25f2705f9d8f1724ebaf0589135c5b719a9618"
  },
  "kernelspec": {
   "display_name": "Python 3.10.2 ('.venv': venv)",
   "language": "python",
   "name": "python3"
  },
  "language_info": {
   "codemirror_mode": {
    "name": "ipython",
    "version": 3
   },
   "file_extension": ".py",
   "mimetype": "text/x-python",
   "name": "python",
   "nbconvert_exporter": "python",
   "pygments_lexer": "ipython3",
   "version": "3.10.2"
  },
  "orig_nbformat": 4
 },
 "nbformat": 4,
 "nbformat_minor": 2
}
