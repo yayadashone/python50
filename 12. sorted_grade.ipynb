{
 "cells": [
  {
   "cell_type": "markdown",
   "metadata": {},
   "source": [
    "## 12 sorted_grade"
   ]
  },
  {
   "cell_type": "code",
   "execution_count": 3,
   "metadata": {},
   "outputs": [],
   "source": [
    "grades=[\n",
    "    ('Alice','Wooding',89),\n",
    "    ('Bob','Johnson',95),\n",
    "    ('Cindy','Letterman',83),\n",
    "    ('David','Moor',90)\n",
    "]"
   ]
  },
  {
   "cell_type": "code",
   "execution_count": 4,
   "metadata": {},
   "outputs": [
    {
     "name": "stdout",
     "output_type": "stream",
     "text": [
      "Wooding Alice 89\n",
      "Johnson Bob 95\n",
      "Letterman Cindy 83\n",
      "Moor David 90\n"
     ]
    }
   ],
   "source": [
    "#quick learning\n",
    "for first,last,grade in grades:\n",
    "    print(f'{last} {first} {grade}')"
   ]
  },
  {
   "cell_type": "code",
   "execution_count": 5,
   "metadata": {},
   "outputs": [
    {
     "name": "stdout",
     "output_type": "stream",
     "text": [
      "Wooding      Alice      89.0\n",
      "Johnson      Bob        95.0\n",
      "Letterman    Cindy      83.0\n",
      "Moor         David      90.0\n"
     ]
    }
   ],
   "source": [
    "#quick learning\n",
    "for first,last,grade in grades:\n",
    "    print(f'{last:12s} {first:10s} {grade:.1f}')"
   ]
  },
  {
   "cell_type": "code",
   "execution_count": 15,
   "metadata": {},
   "outputs": [
    {
     "name": "stdout",
     "output_type": "stream",
     "text": [
      "Johnson      Bob        95.0\n",
      "Moor         David      90.0\n",
      "Wooding      Alice      89.0\n",
      "Letterman    Cindy      83.0\n"
     ]
    }
   ],
   "source": [
    "#first try and revised\n",
    "import operator\n",
    "\n",
    "def sorted_grade(grad):\n",
    "    output =[]\n",
    "    for first, last, grade in sorted(grad, key= operator.itemgetter(2), reverse=True):\n",
    "        output.append(f'{last:12s} {first:10s} {grade:.1f}')\n",
    "    return '\\n'.join(output)\n",
    "\n",
    "print(sorted_grade(grades))"
   ]
  }
 ],
 "metadata": {
  "interpreter": {
   "hash": "aee8b7b246df8f9039afb4144a1f6fd8d2ca17a180786b69acc140d282b71a49"
  },
  "kernelspec": {
   "display_name": "Python 3.10.2 64-bit",
   "language": "python",
   "name": "python3"
  },
  "language_info": {
   "codemirror_mode": {
    "name": "ipython",
    "version": 3
   },
   "file_extension": ".py",
   "mimetype": "text/x-python",
   "name": "python",
   "nbconvert_exporter": "python",
   "pygments_lexer": "ipython3",
   "version": "3.10.2"
  },
  "orig_nbformat": 4
 },
 "nbformat": 4,
 "nbformat_minor": 2
}
