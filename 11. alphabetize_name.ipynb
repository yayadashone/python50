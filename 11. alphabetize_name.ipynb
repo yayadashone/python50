{
 "cells": [
  {
   "cell_type": "markdown",
   "metadata": {},
   "source": [
    "## 11 alphabetize_name"
   ]
  },
  {
   "cell_type": "code",
   "execution_count": 3,
   "metadata": {},
   "outputs": [
    {
     "data": {
      "text/plain": [
       "[('Ann', 'Hathway'), ('Tom', 'Crius'), ('nicole', 'kidman')]"
      ]
     },
     "execution_count": 3,
     "metadata": {},
     "output_type": "execute_result"
    }
   ],
   "source": [
    "#quick learning\n",
    "#sorted\n",
    "people = [('Tom','Crius'),('nicole','kidman'),('Ann','Hathway')]\n",
    "sorted(people) #針對第一個元素排序"
   ]
  },
  {
   "cell_type": "code",
   "execution_count": 7,
   "metadata": {},
   "outputs": [
    {
     "name": "stdout",
     "output_type": "stream",
     "text": [
      "('evd', 'arv')\n",
      "('bedd', 'efwf')\n",
      "('zxxfs', 'qwe')\n"
     ]
    }
   ],
   "source": [
    "#quick learning\n",
    "def last_to_first_sorting(d):\n",
    "    return (d[1],d[0])\n",
    "\n",
    "last_to_first_sorting(people)\n",
    "for person in sorted(people, key=last_to_first_sorting):\n",
    "    print(person)"
   ]
  },
  {
   "cell_type": "code",
   "execution_count": 9,
   "metadata": {},
   "outputs": [
    {
     "name": "stdout",
     "output_type": "stream",
     "text": [
      "12.0\n"
     ]
    }
   ],
   "source": [
    "#quick learning\n",
    "#lambda\n",
    "\n",
    "sqrt = lambda n: n ** 0.5\n",
    "print(sqrt(144))"
   ]
  },
  {
   "cell_type": "code",
   "execution_count": 16,
   "metadata": {},
   "outputs": [
    {
     "data": {
      "text/plain": [
       "[('Tom', 'Crius'), ('Ann', 'Hathway'), ('nicole', 'kidman')]"
      ]
     },
     "execution_count": 16,
     "metadata": {},
     "output_type": "execute_result"
    }
   ],
   "source": [
    "#first try\n",
    "def alphabetize_name(people):\n",
    "    last_to_first_sort = lambda d: (d[1],d[0])\n",
    "    output =[]\n",
    "    for person in sorted(people, key=last_to_first_sort):\n",
    "        output.append(person)\n",
    "    return output\n",
    "\n",
    "alphabetize_name(people)"
   ]
  },
  {
   "cell_type": "code",
   "execution_count": 6,
   "metadata": {},
   "outputs": [
    {
     "name": "stdout",
     "output_type": "stream",
     "text": [
      "2\n",
      "(5, 3)\n",
      "('Crius', 'Tom', '3423')\n",
      "('Hathway', 'Ann', '12342134')\n",
      "('kidman', 'nicole', '1234234')\n"
     ]
    }
   ],
   "source": [
    "#revised\n",
    "import operator\n",
    "d = [1,2,3,4,5]\n",
    "select1 = operator.itemgetter(1) #lambda d:d[1]\n",
    "select2 = operator.itemgetter(4,2) #lambda d:(d[4],d[2])\n",
    "print(select1(d))\n",
    "print(select2(d))\n",
    "\n",
    "\n",
    "ppl = [('Tom','Crius','3423'),('nicole','kidman','1234234'),('Ann','Hathway','12342134')]\n",
    "def alphabetize_name(people):\n",
    "    \n",
    "    output =[]\n",
    "    for person in sorted(people, key=operator.itemgetter(1,0)):\n",
    "        print(f'{person[1],person[0],person[2]}')\n",
    "\n",
    "alphabetize_name(ppl)"
   ]
  }
 ],
 "metadata": {
  "interpreter": {
   "hash": "486541e60e2628d2e526c86f8f25f2705f9d8f1724ebaf0589135c5b719a9618"
  },
  "kernelspec": {
   "display_name": "Python 3.10.2 ('.venv': venv)",
   "language": "python",
   "name": "python3"
  },
  "language_info": {
   "codemirror_mode": {
    "name": "ipython",
    "version": 3
   },
   "file_extension": ".py",
   "mimetype": "text/x-python",
   "name": "python",
   "nbconvert_exporter": "python",
   "pygments_lexer": "ipython3",
   "version": "3.10.2"
  },
  "orig_nbformat": 4
 },
 "nbformat": 4,
 "nbformat_minor": 2
}
