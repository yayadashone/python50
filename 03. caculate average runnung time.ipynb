{
 "cells": [
  {
   "cell_type": "markdown",
   "metadata": {},
   "source": [
    "## 03 caculate average running time"
   ]
  },
  {
   "cell_type": "code",
   "execution_count": 1,
   "metadata": {},
   "outputs": [
    {
     "name": "stdout",
     "output_type": "stream",
     "text": [
      "False\n"
     ]
    }
   ],
   "source": [
    "#quick learning\n",
    "# isdigit() cannot tell float number\n",
    "print('3.142343'.isdigit())"
   ]
  },
  {
   "cell_type": "code",
   "execution_count": 4,
   "metadata": {},
   "outputs": [
    {
     "name": "stdout",
     "output_type": "stream",
     "text": [
      "error:  could not convert string to float: 'sdcdf'\n"
     ]
    }
   ],
   "source": [
    "#quick learning\n",
    "input_str = input('enter a number')\n",
    "try:\n",
    "    num = float(input_str)\n",
    "\n",
    "except Exception as e:\n",
    "    print('error: ', e)"
   ]
  },
  {
   "cell_type": "code",
   "execution_count": 8,
   "metadata": {},
   "outputs": [
    {
     "name": "stdout",
     "output_type": "stream",
     "text": [
      "your 3  average time is 3.0\n"
     ]
    }
   ],
   "source": [
    "#first try\n",
    "\n",
    "def run_timing():\n",
    "\n",
    "    rt_n = 0\n",
    "    rt_s = 0\n",
    "\n",
    "    while True:\n",
    "\n",
    "        rt = input('please enter your runnung time:')\n",
    "        if rt == '':\n",
    "            break\n",
    "        try:\n",
    "            rt_num = float(rt)\n",
    "\n",
    "        except Exception as err:\n",
    "            print('Error:',err)\n",
    "    \n",
    "        rt_n=rt_n+1\n",
    "        rt_s=rt_s+rt_num\n",
    "        avg_rt = rt_s/rt_n\n",
    "\n",
    "\n",
    "    return print('your',rt_n,'average time is', avg_rt)\n",
    "\n",
    "run_timing()"
   ]
  },
  {
   "cell_type": "code",
   "execution_count": 12,
   "metadata": {},
   "outputs": [
    {
     "name": "stdout",
     "output_type": "stream",
     "text": [
      "The  1 time is  1\n",
      "The  2 time is  3\n",
      "The  3 time is  5\n",
      "your 3 average time is 3.0\n"
     ]
    }
   ],
   "source": [
    "#revised\n",
    "\n",
    "def run_timing():\n",
    "\n",
    "    rt_n = 0\n",
    "    rt_s = 0\n",
    "\n",
    "    while True:\n",
    "\n",
    "        rt = input('please enter your runnung time:')\n",
    "        if rt == '':\n",
    "            break\n",
    "        try:\n",
    "            rt_num = float(rt)\n",
    "            rt_n=rt_n+1\n",
    "            rt_s=rt_s+rt_num\n",
    "\n",
    "        except Exception as err:\n",
    "            print('Error:',err)\n",
    "    \n",
    "        if rt_n > 0:\n",
    "            avg_rt = rt_s/rt_n\n",
    "        else:\n",
    "\n",
    "            avg_rt = 0\n",
    "\n",
    "        print('The',rt_n,'time is ',rt)\n",
    "        \n",
    "    print('your',rt_n,'average time is', avg_rt)\n",
    "\n",
    "run_timing()"
   ]
  },
  {
   "cell_type": "code",
   "execution_count": 14,
   "metadata": {},
   "outputs": [
    {
     "name": "stdout",
     "output_type": "stream",
     "text": [
      "you enter a text: asdfasdf\n",
      "enter is over\n"
     ]
    }
   ],
   "source": [
    "#quick learning\n",
    "#指派值, 空字串會被視為False, 迴圈就會結束, 不用break\n",
    "\n",
    "while text:=input('enter a text:'):\n",
    "    print('you enter a text:', text)\n",
    "print('enter is over')\n"
   ]
  },
  {
   "cell_type": "code",
   "execution_count": 15,
   "metadata": {},
   "outputs": [
    {
     "name": "stdout",
     "output_type": "stream",
     "text": [
      "The 1 time is  2241\n",
      "The 2 time is  34\n",
      "The 3 time is  3243\n",
      "your 3 average time is 1839.3333333333333\n"
     ]
    }
   ],
   "source": [
    "#revised\n",
    "\n",
    "def run_timing():\n",
    "\n",
    "    rt_n = 0\n",
    "    rt_s = 0\n",
    "\n",
    "    while rt := input('please enter your runnung time:'):\n",
    "\n",
    "        if rt == '':\n",
    "            break\n",
    "        try:\n",
    "            rt_num = float(rt)\n",
    "            rt_n=rt_n+1\n",
    "            rt_s=rt_s+rt_num\n",
    "\n",
    "        except Exception as err:\n",
    "            print('Error:',err)\n",
    "    \n",
    "        if rt_n > 0:\n",
    "            avg_rt = rt_s/rt_n\n",
    "        else:\n",
    "\n",
    "            avg_rt = 0\n",
    "\n",
    "        print('The',rt_n,'time is ',rt)\n",
    "        \n",
    "    print('your',rt_n,'average time is', avg_rt)\n",
    "\n",
    "run_timing()"
   ]
  }
 ],
 "metadata": {
  "kernelspec": {
   "display_name": "Python 3.10.2 ('.venv': venv)",
   "language": "python",
   "name": "python3"
  },
  "language_info": {
   "codemirror_mode": {
    "name": "ipython",
    "version": 3
   },
   "file_extension": ".py",
   "mimetype": "text/x-python",
   "name": "python",
   "nbconvert_exporter": "python",
   "pygments_lexer": "ipython3",
   "version": "3.10.2"
  },
  "orig_nbformat": 4,
  "vscode": {
   "interpreter": {
    "hash": "486541e60e2628d2e526c86f8f25f2705f9d8f1724ebaf0589135c5b719a9618"
   }
  }
 },
 "nbformat": 4,
 "nbformat_minor": 2
}
