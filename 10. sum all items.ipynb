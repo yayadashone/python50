{
 "cells": [
  {
   "cell_type": "markdown",
   "metadata": {},
   "source": [
    "## 10 sum all type"
   ]
  },
  {
   "cell_type": "code",
   "execution_count": 1,
   "metadata": {},
   "outputs": [
    {
     "name": "stdout",
     "output_type": "stream",
     "text": [
      "empty\n"
     ]
    }
   ],
   "source": [
    "#quick learning\n",
    "t=()\n",
    "if t:\n",
    "    print('not empty')\n",
    "else:\n",
    "    print('empty')"
   ]
  },
  {
   "cell_type": "code",
   "execution_count": 35,
   "metadata": {},
   "outputs": [
    {
     "data": {
      "text/plain": [
       "'abcwer'"
      ]
     },
     "execution_count": 35,
     "metadata": {},
     "output_type": "execute_result"
    }
   ],
   "source": [
    "'abc'+'wer'"
   ]
  },
  {
   "cell_type": "code",
   "execution_count": 42,
   "metadata": {},
   "outputs": [
    {
     "name": "stdout",
     "output_type": "stream",
     "text": [
      "asdfsdsfsdfsdfd\n",
      "()\n",
      "6\n"
     ]
    }
   ],
   "source": [
    "#revised\n",
    "def mysum(*item):\n",
    "    if not item:\n",
    "        return item\n",
    "    output = item[0]\n",
    "    \n",
    "    for item in item[1:]:\n",
    "        output = output + item\n",
    "    return output\n",
    "\n",
    "print(mysum('asdfsdsf','sdf','sdfd'))\n",
    "print(mysum())\n",
    "print(mysum(1,2,3))"
   ]
  },
  {
   "cell_type": "code",
   "execution_count": 7,
   "metadata": {},
   "outputs": [
    {
     "name": "stdout",
     "output_type": "stream",
     "text": [
      "{'a': 1, 'b': 2, 'c': 3}\n",
      "{'a': 1, 'b': 2, 'c': 3}\n",
      "{'a': 1, 'b': 2, 'c': 3}\n",
      "{'a': 1, 'b': 2, 'c': 3}\n"
     ]
    }
   ],
   "source": [
    "#quick learning\n",
    "#dict\n",
    "d1 ={'a':1,'b':2}\n",
    "d2={'c':3}\n",
    "print({**d1, **d2}) #不改變d1\n",
    "\n",
    "d1.update(d2) #直接改變d1\n",
    "print(d1) \n",
    "\n",
    "print(d1 | d2)\n",
    "\n",
    "d1 |= d2\n",
    "print(d1)"
   ]
  },
  {
   "cell_type": "code",
   "execution_count": 11,
   "metadata": {},
   "outputs": [
    {
     "name": "stdout",
     "output_type": "stream",
     "text": [
      "asdfsdsfsdfsdfd\n",
      "()\n",
      "6\n",
      "{'a': 1, 'b': 2, 'c': 3}\n"
     ]
    }
   ],
   "source": [
    "#revised\n",
    "def mysum(*item):\n",
    "    if not item:\n",
    "        return item\n",
    "    output = item[0]\n",
    "    \n",
    "    for item in item[1:]:\n",
    "        if isinstance(item, dict):\n",
    "            output.update(item)\n",
    "        else:\n",
    "            output = output + item\n",
    "    return output\n",
    "\n",
    "print(mysum('asdfsdsf','sdf','sdfd'))\n",
    "print(mysum())\n",
    "print(mysum(1,2,3))\n",
    "print(mysum({'a':1,'b':2},{'c':3}))"
   ]
  }
 ],
 "metadata": {
  "interpreter": {
   "hash": "486541e60e2628d2e526c86f8f25f2705f9d8f1724ebaf0589135c5b719a9618"
  },
  "kernelspec": {
   "display_name": "Python 3.10.2 ('.venv': venv)",
   "language": "python",
   "name": "python3"
  },
  "language_info": {
   "codemirror_mode": {
    "name": "ipython",
    "version": 3
   },
   "file_extension": ".py",
   "mimetype": "text/x-python",
   "name": "python",
   "nbconvert_exporter": "python",
   "pygments_lexer": "ipython3",
   "version": "3.10.2"
  },
  "orig_nbformat": 4
 },
 "nbformat": 4,
 "nbformat_minor": 2
}
