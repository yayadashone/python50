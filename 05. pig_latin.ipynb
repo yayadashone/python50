{
 "cells": [
  {
   "cell_type": "markdown",
   "metadata": {},
   "source": [
    "## 05 Pig Latin"
   ]
  },
  {
   "cell_type": "markdown",
   "metadata": {},
   "source": [
    "1st= aeiou\n",
    "add 'way' at the end\n",
    "\n",
    "1st != aeiou\n",
    "add [0]+'ay' at the end"
   ]
  },
  {
   "cell_type": "code",
   "execution_count": 3,
   "metadata": {},
   "outputs": [
    {
     "name": "stdout",
     "output_type": "stream",
     "text": [
      "a\n",
      "p\n"
     ]
    }
   ],
   "source": [
    "#quick learning\n",
    "s = 'apple'\n",
    "print(s[0])\n",
    "print(s[2])"
   ]
  },
  {
   "cell_type": "code",
   "execution_count": 4,
   "metadata": {},
   "outputs": [
    {
     "name": "stdout",
     "output_type": "stream",
     "text": [
      "yes\n"
     ]
    }
   ],
   "source": [
    "#quick learning\n",
    "word = 'apple'\n",
    "if word[0] in 'aeiou':\n",
    "    print('yes')"
   ]
  },
  {
   "cell_type": "code",
   "execution_count": 7,
   "metadata": {},
   "outputs": [
    {
     "name": "stdout",
     "output_type": "stream",
     "text": [
      "com\n",
      "puter\n",
      "comput\n"
     ]
    }
   ],
   "source": [
    "#quick learning\n",
    "#slice a str\n",
    "word = 'computer'\n",
    "print(word[0:3])\n",
    "print(word[3:])\n",
    "print(word[:6])"
   ]
  },
  {
   "cell_type": "code",
   "execution_count": 28,
   "metadata": {},
   "outputs": [
    {
     "name": "stdout",
     "output_type": "stream",
     "text": [
      "Error: string index out of range\n",
      "\n"
     ]
    }
   ],
   "source": [
    "#first try\n",
    "def pig_latin():\n",
    "    word = input('enter a word:')\n",
    "\n",
    "    try:\n",
    "        if word[0] in 'aeiou':\n",
    "            word = word + 'way'\n",
    "        else:\n",
    "            word = word + word[0] + 'ay'\n",
    "    except Exception as err:\n",
    "        print('Error:',err)\n",
    "            \n",
    "    print(word)\n",
    "\n",
    "\n",
    "pig_latin()"
   ]
  },
  {
   "cell_type": "code",
   "execution_count": 29,
   "metadata": {},
   "outputs": [
    {
     "name": "stdout",
     "output_type": "stream",
     "text": [
      "atinlay\n"
     ]
    }
   ],
   "source": [
    "#quick learning\n",
    "\n",
    "#f'str1{var1} str2{var2}'\n",
    "\n",
    "def pig_latin(word):\n",
    "    if word[0] in 'aeiou':\n",
    "        return f'{word}way'\n",
    "    else:\n",
    "        return f'{word[1:]}{word[0]}ay'\n",
    "\n",
    "\n",
    "print(pig_latin('latin'))"
   ]
  }
 ],
 "metadata": {
  "interpreter": {
   "hash": "aee8b7b246df8f9039afb4144a1f6fd8d2ca17a180786b69acc140d282b71a49"
  },
  "kernelspec": {
   "display_name": "Python 3.10.2 64-bit",
   "language": "python",
   "name": "python3"
  },
  "language_info": {
   "codemirror_mode": {
    "name": "ipython",
    "version": 3
   },
   "file_extension": ".py",
   "mimetype": "text/x-python",
   "name": "python",
   "nbconvert_exporter": "python",
   "pygments_lexer": "ipython3",
   "version": "3.10.2"
  },
  "orig_nbformat": 4
 },
 "nbformat": 4,
 "nbformat_minor": 2
}
