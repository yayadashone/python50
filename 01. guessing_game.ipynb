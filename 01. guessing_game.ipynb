{
 "cells": [
  {
   "cell_type": "markdown",
   "metadata": {},
   "source": [
    "## 01. guessing_game()"
   ]
  },
  {
   "cell_type": "code",
   "execution_count": 5,
   "metadata": {},
   "outputs": [
    {
     "name": "stdout",
     "output_type": "stream",
     "text": [
      "the number is: 12\n"
     ]
    }
   ],
   "source": [
    "#quick learning\n",
    "#note: input() is a str\n",
    "num = input('enter a number: ')\n",
    "print('the number is:', num)"
   ]
  },
  {
   "cell_type": "code",
   "execution_count": 4,
   "metadata": {},
   "outputs": [
    {
     "name": "stdout",
     "output_type": "stream",
     "text": [
      "42\n",
      "<class 'int'>\n"
     ]
    }
   ],
   "source": [
    "#quick learning\n",
    "s='42'\n",
    "print(int(s))\n",
    "print(type(int(s)))"
   ]
  },
  {
   "cell_type": "code",
   "execution_count": 3,
   "metadata": {},
   "outputs": [
    {
     "name": "stdout",
     "output_type": "stream",
     "text": [
      "19\n"
     ]
    }
   ],
   "source": [
    "#quick learning\n",
    "import random\n",
    "print(random.randint(0,30))"
   ]
  },
  {
   "cell_type": "code",
   "execution_count": 7,
   "metadata": {},
   "outputs": [
    {
     "name": "stdout",
     "output_type": "stream",
     "text": [
      "bad\n"
     ]
    }
   ],
   "source": [
    "#quick learning\n",
    "num = int(input('enter a num:'))\n",
    "answer = 5\n",
    "while True:\n",
    "    if num == answer:\n",
    "        print('great')\n",
    "        break\n",
    "    else:\n",
    "        print('bad')\n",
    "        break"
   ]
  },
  {
   "cell_type": "code",
   "execution_count": 17,
   "metadata": {},
   "outputs": [
    {
     "name": "stdout",
     "output_type": "stream",
     "text": [
      "too high, between 0  and  3 guess again\n",
      "too high, between 0  and  2 guess again\n",
      "great you got it\n"
     ]
    }
   ],
   "source": [
    "import random\n",
    "\n",
    "answer = random.randint(0,10)\n",
    "guess_num = int(input('guess number:'))\n",
    "while answer != guess_num:\n",
    "\n",
    "    if answer > guess_num:\n",
    "        print('too low, between', guess_num,' and ', 10, 'guess again')\n",
    "        guess_num = int(input('guess number:'))\n",
    "    else:\n",
    "        print('too high, between', 0,' and ', guess_num, 'guess again')\n",
    "        guess_num = int(input('guess number:'))\n",
    "print('great you got it')"
   ]
  }
 ],
 "metadata": {
  "interpreter": {
   "hash": "19d8ea4634d336f98af4749d0de989fe6d7c07aec5867d12deb61a78a6e3195d"
  },
  "kernelspec": {
   "display_name": "Python 3.9.7 ('base')",
   "language": "python",
   "name": "python3"
  },
  "language_info": {
   "codemirror_mode": {
    "name": "ipython",
    "version": 3
   },
   "file_extension": ".py",
   "mimetype": "text/x-python",
   "name": "python",
   "nbconvert_exporter": "python",
   "pygments_lexer": "ipython3",
   "version": "3.10.2"
  },
  "orig_nbformat": 4
 },
 "nbformat": 4,
 "nbformat_minor": 2
}
