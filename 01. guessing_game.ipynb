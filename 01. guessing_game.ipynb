{
 "cells": [
  {
   "cell_type": "markdown",
   "metadata": {},
   "source": [
    "## guessing_game()"
   ]
  },
  {
   "cell_type": "code",
   "execution_count": null,
   "metadata": {},
   "outputs": [],
   "source": [
    "#quick learning\n",
    "num = input('enter a number: ')\n",
    "print('the number is:', num)"
   ]
  },
  {
   "cell_type": "code",
   "execution_count": null,
   "metadata": {},
   "outputs": [],
   "source": [
    "#quick learning\n",
    "s='42'\n",
    "print(int(s))\n",
    "print(type(int(s)))"
   ]
  }
 ],
 "metadata": {
  "interpreter": {
   "hash": "19d8ea4634d336f98af4749d0de989fe6d7c07aec5867d12deb61a78a6e3195d"
  },
  "kernelspec": {
   "display_name": "Python 3.9.7 ('base')",
   "language": "python",
   "name": "python3"
  },
  "language_info": {
   "name": "python",
   "version": "3.10.2"
  },
  "orig_nbformat": 4
 },
 "nbformat": 4,
 "nbformat_minor": 2
}
