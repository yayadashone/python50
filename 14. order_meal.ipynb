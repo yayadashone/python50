{
 "cells": [
  {
   "cell_type": "markdown",
   "metadata": {},
   "source": [
    "## 14 order_meal"
   ]
  },
  {
   "cell_type": "code",
   "execution_count": 7,
   "metadata": {},
   "outputs": [
    {
     "name": "stdout",
     "output_type": "stream",
     "text": [
      "1\n"
     ]
    }
   ],
   "source": [
    "#quick learning\n",
    "data = {'a':1,'b':2,'c':3}\n",
    "if 'a' in data:\n",
    "    print(data['a'])\n",
    "else:\n",
    "    print('no key')"
   ]
  },
  {
   "cell_type": "code",
   "execution_count": 4,
   "metadata": {},
   "outputs": [],
   "source": [
    "meals={\n",
    "    'sandwitch':50,\n",
    "    'coffee':40,\n",
    "    'salad':30\n",
    "}\n",
    "\n"
   ]
  },
  {
   "cell_type": "code",
   "execution_count": 23,
   "metadata": {},
   "outputs": [
    {
     "data": {
      "text/plain": [
       "110"
      ]
     },
     "execution_count": 23,
     "metadata": {},
     "output_type": "execute_result"
    }
   ],
   "source": [
    "#first try\n",
    "def order_meal():\n",
    "    bill=0\n",
    "    while True:\n",
    "        order = input('please have a order:')\n",
    "        if order == '':\n",
    "            break\n",
    "        else:\n",
    "            if order in meals:\n",
    "                bill=bill+meals[order]\n",
    "    return bill\n",
    "\n",
    "\n",
    "order_meal()"
   ]
  },
  {
   "cell_type": "code",
   "execution_count": 26,
   "metadata": {},
   "outputs": [
    {
     "name": "stdout",
     "output_type": "stream",
     "text": [
      "salad is 30 dollars, and total 30\n",
      "coffee is 40 dollars, and total 70\n",
      "coffee is 40 dollars, and total 110\n",
      "total is 110 dollars\n"
     ]
    }
   ],
   "source": [
    "#revised\n",
    "def order_meal():\n",
    "    bill=0\n",
    "    while order := input('please have a order:'):\n",
    "        if order in meals:\n",
    "            bill=bill+meals[order]\n",
    "            print(f'{order} is {meals[order]} dollars, and total {bill}')\n",
    "        else:\n",
    "            print('the order is not on the menu')\n",
    "\n",
    "    print(f'total is {bill} dollars')\n",
    "order_meal()"
   ]
  }
 ],
 "metadata": {
  "interpreter": {
   "hash": "486541e60e2628d2e526c86f8f25f2705f9d8f1724ebaf0589135c5b719a9618"
  },
  "kernelspec": {
   "display_name": "Python 3.10.2 ('.venv': venv)",
   "language": "python",
   "name": "python3"
  },
  "language_info": {
   "codemirror_mode": {
    "name": "ipython",
    "version": 3
   },
   "file_extension": ".py",
   "mimetype": "text/x-python",
   "name": "python",
   "nbconvert_exporter": "python",
   "pygments_lexer": "ipython3",
   "version": "3.10.2"
  },
  "orig_nbformat": 4
 },
 "nbformat": 4,
 "nbformat_minor": 2
}
