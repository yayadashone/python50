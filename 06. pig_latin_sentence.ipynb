{
 "cells": [
  {
   "cell_type": "markdown",
   "metadata": {},
   "source": [
    "## 06 pig_latin sentence"
   ]
  },
  {
   "cell_type": "markdown",
   "metadata": {},
   "source": [
    "def pl_sentence('the sentence'):\n",
    "    return 'the sentence' in pig_latin"
   ]
  },
  {
   "cell_type": "code",
   "execution_count": 2,
   "metadata": {},
   "outputs": [
    {
     "name": "stdout",
     "output_type": "stream",
     "text": [
      "['abc', 'def', 'ghi']\n"
     ]
    }
   ],
   "source": [
    "#quick learning\n",
    "#split()\n",
    "a = 'abc def ghi'\n",
    "print(a.split(' '))"
   ]
  },
  {
   "cell_type": "code",
   "execution_count": 5,
   "metadata": {},
   "outputs": [
    {
     "data": {
      "text/plain": [
       "'abc def ghi'"
      ]
     },
     "execution_count": 5,
     "metadata": {},
     "output_type": "execute_result"
    }
   ],
   "source": [
    "#quick learning\n",
    "#join()\n",
    "' '.join(['abc', 'def', 'ghi'])"
   ]
  },
  {
   "cell_type": "code",
   "execution_count": 25,
   "metadata": {},
   "outputs": [
    {
     "data": {
      "text/plain": [
       "'histay isway away ookbay'"
      ]
     },
     "execution_count": 25,
     "metadata": {},
     "output_type": "execute_result"
    }
   ],
   "source": [
    "#first try\n",
    "def pl_sentence():\n",
    "    sents = input('please enter a sentence:')\n",
    "    new_sents=[]\n",
    "\n",
    "    for i in sents.split(' '):\n",
    "        if i[0] in 'aeiou':\n",
    "            i = i + 'way'\n",
    "        else:\n",
    "            i = i[1:] + i[0] + 'ay'\n",
    "\n",
    "        new_sents.append(i)\n",
    "    \n",
    "    return ' '.join(new_sents)\n",
    "\n",
    "\n",
    "pl_sentence()"
   ]
  },
  {
   "cell_type": "code",
   "execution_count": 24,
   "metadata": {},
   "outputs": [
    {
     "data": {
      "text/plain": [
       "'histay isway away ookbay'"
      ]
     },
     "execution_count": 24,
     "metadata": {},
     "output_type": "execute_result"
    }
   ],
   "source": [
    "#revised\n",
    "def pl_sentence():\n",
    "    sents = input('please enter a sentence:')\n",
    "    new_sents=[]\n",
    "\n",
    "    for i in sents.lower().split(' '):\n",
    "        if i[0] in 'aeiou':\n",
    "            new_sents.append(f'{i}way')\n",
    "        else:\n",
    "            new_sents.append(f'{i[1:]}{i[0]}ay')\n",
    "    \n",
    "    return ' '.join(new_sents)\n",
    "\n",
    "\n",
    "pl_sentence()"
   ]
  }
 ],
 "metadata": {
  "interpreter": {
   "hash": "aee8b7b246df8f9039afb4144a1f6fd8d2ca17a180786b69acc140d282b71a49"
  },
  "kernelspec": {
   "display_name": "Python 3.10.2 64-bit",
   "language": "python",
   "name": "python3"
  },
  "language_info": {
   "codemirror_mode": {
    "name": "ipython",
    "version": 3
   },
   "file_extension": ".py",
   "mimetype": "text/x-python",
   "name": "python",
   "nbconvert_exporter": "python",
   "pygments_lexer": "ipython3",
   "version": "3.10.2"
  },
  "orig_nbformat": 4
 },
 "nbformat": 4,
 "nbformat_minor": 2
}
