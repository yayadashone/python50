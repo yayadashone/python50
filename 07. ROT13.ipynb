{
 "cells": [
  {
   "cell_type": "markdown",
   "metadata": {},
   "source": [
    "## 07 ROT"
   ]
  },
  {
   "cell_type": "markdown",
   "metadata": {},
   "source": [
    "apple -> nccyr\n",
    "nccyr -> apple"
   ]
  },
  {
   "cell_type": "code",
   "execution_count": 6,
   "metadata": {},
   "outputs": [
    {
     "data": {
      "text/plain": [
       "'Q'"
      ]
     },
     "execution_count": 6,
     "metadata": {},
     "output_type": "execute_result"
    }
   ],
   "source": [
    "#quick learning\n",
    "chr(ord('C')+13) #P\n",
    "chr(ord('D')+13) #Q"
   ]
  },
  {
   "cell_type": "code",
   "execution_count": 14,
   "metadata": {},
   "outputs": [
    {
     "data": {
      "text/plain": [
       "'apple'"
      ]
     },
     "execution_count": 14,
     "metadata": {},
     "output_type": "execute_result"
    }
   ],
   "source": [
    "#first try\n",
    "def rot13():\n",
    "    word = input('please enter a word:')\n",
    "    new_word=[]\n",
    "    for i in word:\n",
    "        if chr(ord(i)+13) > 'z':\n",
    "            new_word.append(chr(ord(i)+13-26))\n",
    "        else:\n",
    "            new_word.append(chr(ord(i)+13))\n",
    "    return ''.join(new_word)\n",
    "\n",
    "\n",
    "rot13()"
   ]
  },
  {
   "cell_type": "code",
   "execution_count": 3,
   "metadata": {},
   "outputs": [
    {
     "data": {
      "text/plain": [
       "'nccyr'"
      ]
     },
     "execution_count": 3,
     "metadata": {},
     "output_type": "execute_result"
    }
   ],
   "source": [
    "#revised\n",
    "def rot13(word):\n",
    "    \n",
    "    new_word=[]\n",
    "    for i in word.lower():\n",
    "        new_ord=ord(i)+13\n",
    "        if new_ord>ord('z'):\n",
    "            new_ord=new_ord-26\n",
    "\n",
    "        new_word.append(chr(new_ord))\n",
    "    return ''.join(new_word)\n",
    "\n",
    "\n",
    "rot13('apple')"
   ]
  },
  {
   "cell_type": "code",
   "execution_count": 4,
   "metadata": {},
   "outputs": [
    {
     "name": "stdout",
     "output_type": "stream",
     "text": [
      "nccyr\n"
     ]
    }
   ],
   "source": [
    "#quick learning\n",
    "#python defaults ROT13\n",
    "import codecs\n",
    "print(codecs.encode('apple','rot_13'))"
   ]
  }
 ],
 "metadata": {
  "interpreter": {
   "hash": "aee8b7b246df8f9039afb4144a1f6fd8d2ca17a180786b69acc140d282b71a49"
  },
  "kernelspec": {
   "display_name": "Python 3.10.2 64-bit",
   "language": "python",
   "name": "python3"
  },
  "language_info": {
   "codemirror_mode": {
    "name": "ipython",
    "version": 3
   },
   "file_extension": ".py",
   "mimetype": "text/x-python",
   "name": "python",
   "nbconvert_exporter": "python",
   "pygments_lexer": "ipython3",
   "version": "3.10.2"
  },
  "orig_nbformat": 4
 },
 "nbformat": 4,
 "nbformat_minor": 2
}
